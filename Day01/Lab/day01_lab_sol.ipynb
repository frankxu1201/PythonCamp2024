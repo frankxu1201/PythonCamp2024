{
 "cells": [
  {
   "cell_type": "markdown",
   "metadata": {},
   "source": [
    "# Lab Solutions: Data Types, Loops, and Functions"
   ]
  },
  {
   "cell_type": "markdown",
   "metadata": {},
   "source": [
    "**Instructions**: \n",
    "\n",
    "Complete the following functions with your code\n",
    "- You can find information on how to convert numbers to a different base here:\n",
    "    - https://www.tutorialspoint.com/computer_logical_organization/number_system_conversion.htm\n",
    "- You can find information on how to convert numbers to roman numerals here:\n",
    "    - https://www.romannumerals.org/converter"
   ]
  },
  {
   "cell_type": "markdown",
   "metadata": {},
   "source": [
    "1. Convert positive integer to base 2"
   ]
  },
  {
   "cell_type": "code",
   "execution_count": 13,
   "metadata": {},
   "outputs": [
    {
     "data": {
      "text/plain": [
       "'11101'"
      ]
     },
     "execution_count": 13,
     "metadata": {},
     "output_type": "execute_result"
    }
   ],
   "source": [
    "def binarify(num): \n",
    "    # deal with invalid (negative) inputs\n",
    "    if num<=0: return '0'\n",
    "    # instantiate empty list\n",
    "    digits = []\n",
    "    while num > 0:\n",
    "        # add remainders to the list\n",
    "        digits.append(num%2)\n",
    "        # floor divide original number\n",
    "        num = num // 2\n",
    "    digits = [str(i) for i in digits[::-1]]\n",
    "    return ''.join(digits)\n",
    "\n",
    "binarify(29)#  == bin(29)[2:]"
   ]
  },
  {
   "cell_type": "markdown",
   "metadata": {},
   "source": [
    "2. Convert positive integer to a string in any base"
   ]
  },
  {
   "cell_type": "code",
   "execution_count": 14,
   "metadata": {},
   "outputs": [
    {
     "data": {
      "text/plain": [
       "'11101'"
      ]
     },
     "execution_count": 14,
     "metadata": {},
     "output_type": "execute_result"
    }
   ],
   "source": [
    "def int_to_base(num, base):\n",
    "    if num<=0: return '0'\n",
    "    digits = []\n",
    "    while num != 0:\n",
    "        digits.append(num % base)\n",
    "        num = num // base\n",
    "    digits = [str(i) for i in digits[::-1]]\n",
    "    return ''.join(digits)\n",
    "\n",
    "int_to_base(29, 2)"
   ]
  },
  {
   "cell_type": "markdown",
   "metadata": {},
   "source": [
    " 3. Take a string-formatted number and its base and return the base-10 integer"
   ]
  },
  {
   "cell_type": "code",
   "execution_count": 2,
   "metadata": {},
   "outputs": [
    {
     "name": "stdout",
     "output_type": "stream",
     "text": [
      "[1, 1, 1, 0, 1]\n"
     ]
    },
    {
     "data": {
      "text/plain": [
       "29"
      ]
     },
     "execution_count": 2,
     "metadata": {},
     "output_type": "execute_result"
    }
   ],
   "source": [
    "def base_to_int(string, base):\n",
    "    # handle invalid cases\n",
    "    if string==\"0\" or base <= 0 : return 0\n",
    "    # set reference value at 0\n",
    "    result = 0 \n",
    "    # make string into list of integers\n",
    "    string = [int(i) for i in string]\n",
    "    # store length of string\n",
    "    n = len(string)\n",
    "    # print the list\n",
    "    print(string)\n",
    "    # for each index position,\n",
    "    for i in range(0, n):\n",
    "        # apply formula\n",
    "        result += string[i] * base ** (n - i - 1)\n",
    "    return result \n",
    "\n",
    "base_to_int(\"11101\", 2)"
   ]
  },
  {
   "cell_type": "markdown",
   "metadata": {},
   "source": [
    "##### Similar solution"
   ]
  },
  {
   "cell_type": "code",
   "execution_count": 27,
   "metadata": {},
   "outputs": [],
   "source": [
    "def base_to_int(string, base):\n",
    "    if string == \"0\" or base <= 0 : \n",
    "        return 0 \n",
    "    \n",
    "    result = 0 \n",
    "\n",
    "    intlist = [int(c) for c in string]\n",
    "\n",
    "    for i in range(0,len(intlist)):\n",
    "\n",
    "        result += intlist[i] * (base**(len(intlist)-i-1))\n",
    "\n",
    "    return result "
   ]
  },
  {
   "cell_type": "code",
   "execution_count": 28,
   "metadata": {},
   "outputs": [
    {
     "data": {
      "text/plain": [
       "29"
      ]
     },
     "execution_count": 28,
     "metadata": {},
     "output_type": "execute_result"
    }
   ],
   "source": [
    "base_to_int(\"11101\", 2)"
   ]
  },
  {
   "cell_type": "markdown",
   "metadata": {},
   "source": [
    "4. Add two numbers of different bases and return the sum"
   ]
  },
  {
   "cell_type": "code",
   "execution_count": 3,
   "metadata": {},
   "outputs": [
    {
     "name": "stdout",
     "output_type": "stream",
     "text": [
      "[1, 1, 1, 0, 1]\n",
      "[1, 1, 1, 0, 1]\n"
     ]
    },
    {
     "data": {
      "text/plain": [
       "58"
      ]
     },
     "execution_count": 3,
     "metadata": {},
     "output_type": "execute_result"
    }
   ],
   "source": [
    "def flexibase_add(str1, str2, base1, base2):\n",
    "    num_one = base_to_int(str1, base1)\n",
    "    num_two = base_to_int(str2, base2)\n",
    "    result = num_one + num_two\n",
    "    return result \n",
    "\n",
    "flexibase_add(\"11101\", \"11101\", 2, 2)"
   ]
  },
  {
   "cell_type": "markdown",
   "metadata": {},
   "source": [
    "5. Multiply two numbers of different bases and return the product"
   ]
  },
  {
   "cell_type": "code",
   "execution_count": 19,
   "metadata": {},
   "outputs": [
    {
     "name": "stdout",
     "output_type": "stream",
     "text": [
      "[1, 1, 1, 0, 1]\n",
      "[1, 1, 1, 0, 1]\n"
     ]
    },
    {
     "data": {
      "text/plain": [
       "841"
      ]
     },
     "execution_count": 19,
     "metadata": {},
     "output_type": "execute_result"
    }
   ],
   "source": [
    "def flexibase_multiply(str1, str2, base1, base2):\n",
    "    num_one = base_to_int(str1, base1)\n",
    "    num_two = base_to_int(str2, base2)\n",
    "    result = num_one * num_two\n",
    "    return result \n",
    "\n",
    "flexibase_multiply(\"11101\", \"11101\", 2, 2)"
   ]
  },
  {
   "cell_type": "markdown",
   "metadata": {},
   "source": [
    "6. Given an integer, return the Roman numeral version"
   ]
  },
  {
   "cell_type": "code",
   "execution_count": 18,
   "metadata": {},
   "outputs": [
    {
     "data": {
      "text/plain": [
       "'CLV'"
      ]
     },
     "execution_count": 18,
     "metadata": {},
     "output_type": "execute_result"
    }
   ],
   "source": [
    "# Hint: Please use a dictionary in your solution. \n",
    "def romanify(num):\n",
    "  we_r_romans = {1 : 'I', 4: 'IV', 5: 'V', 9: 'IX', 10: 'X',\n",
    "                 40: 'XL', 50: 'L', 90: 'XC', 100: 'C',\n",
    "                 400: 'CD', 500: 'D', 900: 'CM', 1000: 'M'}\n",
    "  rom_num = []\n",
    "    \n",
    "  for i in list(we_r_romans.keys())[::-1]:\n",
    "    while num >= i:\n",
    "        rom_num.append(i)\n",
    "        num = num - i\n",
    "  result = [we_r_romans[i] for i in rom_num]\n",
    "  return ''.join(result)\n",
    "\n",
    "romanify(155)"
   ]
  },
  {
   "cell_type": "markdown",
   "metadata": {},
   "source": [
    "##### Similar solution"
   ]
  },
  {
   "cell_type": "code",
   "execution_count": 14,
   "metadata": {},
   "outputs": [],
   "source": [
    "def romanify(num):\n",
    "    num = int(num)\n",
    "    we_r_romans = {1 : 'I', 4: 'IV', 5: 'V', 9: 'IX', 10: 'X',\n",
    "                 40: 'XL', 50: 'L', 90: 'XC', 100: 'C',\n",
    "                 400: 'CD', 500: 'D', 900: 'CM', 1000: 'M'}\n",
    "    \n",
    "    rom_num = []\n",
    "    \n",
    "    for i in sorted(we_r_romans.keys(), reverse=True):\n",
    "        \n",
    "        while num >= i:\n",
    "            \n",
    "            rom_num.append(we_r_romans[i])\n",
    "            \n",
    "            num -= i\n",
    "            \n",
    "    return ''.join(rom_num)"
   ]
  },
  {
   "cell_type": "code",
   "execution_count": 29,
   "metadata": {},
   "outputs": [
    {
     "data": {
      "text/plain": [
       "'CLV'"
      ]
     },
     "execution_count": 29,
     "metadata": {},
     "output_type": "execute_result"
    }
   ],
   "source": [
    "romanify(155)"
   ]
  },
  {
   "cell_type": "code",
   "execution_count": 1,
   "metadata": {},
   "outputs": [],
   "source": [
    "# Copyright (c) 2014 Matt Dickenson\n",
    "# \n",
    "# Permission is hereby granted, free of charge, to any person obtaining a copy\n",
    "# of this software and associated documentation files (the \"Software\"), to deal\n",
    "# in the Software without restriction, including without limitation the rights\n",
    "# to use, copy, modify, merge, publish, distribute, sublicense, and/or sell\n",
    "# copies of the Software, and to permit persons to whom the Software is\n",
    "# furnished to do so, subject to the following conditions:\n",
    "# \n",
    "# The above copyright notice and this permission notice shall be included in all\n",
    "# copies or substantial portions of the Software.\n",
    "# \n",
    "# THE SOFTWARE IS PROVIDED \"AS IS\", WITHOUT WARRANTY OF ANY KIND, EXPRESS OR\n",
    "# IMPLIED, INCLUDING BUT NOT LIMITED TO THE WARRANTIES OF MERCHANTABILITY,\n",
    "# FITNESS FOR A PARTICULAR PURPOSE AND NONINFRINGEMENT. IN NO EVENT SHALL THE\n",
    "# AUTHORS OR COPYRIGHT HOLDERS BE LIABLE FOR ANY CLAIM, DAMAGES OR OTHER\n",
    "# LIABILITY, WHETHER IN AN ACTION OF CONTRACT, TORT OR OTHERWISE, ARISING FROM,\n",
    "# OUT OF OR IN CONNECTION WITH THE SOFTWARE OR THE USE OR OTHER DEALINGS IN THE\n",
    "# SOFTWARE."
   ]
  },
  {
   "cell_type": "code",
   "execution_count": null,
   "metadata": {},
   "outputs": [],
   "source": []
  }
 ],
 "metadata": {
  "kernelspec": {
   "display_name": "Python 3 (ipykernel)",
   "language": "python",
   "name": "python3"
  },
  "language_info": {
   "codemirror_mode": {
    "name": "ipython",
    "version": 3
   },
   "file_extension": ".py",
   "mimetype": "text/x-python",
   "name": "python",
   "nbconvert_exporter": "python",
   "pygments_lexer": "ipython3",
   "version": "3.12.4"
  }
 },
 "nbformat": 4,
 "nbformat_minor": 4
}
