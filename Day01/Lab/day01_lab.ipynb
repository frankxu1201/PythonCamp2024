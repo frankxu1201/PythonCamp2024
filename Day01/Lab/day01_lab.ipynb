{
 "cells": [
  {
   "cell_type": "markdown",
   "metadata": {},
   "source": [
    "# Lab: Data Types, Loops, and Functions"
   ]
  },
  {
   "cell_type": "markdown",
   "metadata": {},
   "source": [
    "**Instructions**: \n",
    "\n",
    "Complete the following functions with your code\n",
    "- You can find information on how to convert numbers to a different base here:\n",
    "    - https://www.tutorialspoint.com/computer_logical_organization/number_system_conversion.htm\n",
    "- You can find information on how to convert numbers to roman numerals here:\n",
    "    - https://www.romannumerals.org/converter"
   ]
  },
  {
   "cell_type": "markdown",
   "metadata": {},
   "source": [
    "1. Convert positive integer to base 2"
   ]
  },
  {
   "cell_type": "code",
   "execution_count": 2,
   "metadata": {},
   "outputs": [
    {
     "name": "stdout",
     "output_type": "stream",
     "text": [
      "10100\n"
     ]
    }
   ],
   "source": [
    "def binarify(num): \n",
    "    if num <= 0: \n",
    "        return '0'\n",
    "    digits = []\n",
    "\n",
    "    while num > 0:\n",
    "        digits.append(str(num % 2))\n",
    "        num = num // 2\n",
    "    return ''.join(digits[::-1])\n",
    "\n",
    "print(binarify(20))"
   ]
  },
  {
   "cell_type": "markdown",
   "metadata": {},
   "source": [
    "2. Convert positive integer to a string in any base"
   ]
  },
  {
   "cell_type": "code",
   "execution_count": 3,
   "metadata": {},
   "outputs": [
    {
     "data": {
      "text/plain": [
       "'20'"
      ]
     },
     "execution_count": 3,
     "metadata": {},
     "output_type": "execute_result"
    }
   ],
   "source": [
    "def int_to_base(num, base):\n",
    "    if num <= 0:  \n",
    "        return '0' \n",
    "    digits = []\n",
    "    while num > 0:\n",
    "        remainder = num % base\n",
    "        digits.append(str(remainder))\n",
    "        num = num // base\n",
    "    \n",
    "    digits.reverse() \n",
    "    return ''.join(digits)\n",
    "\n",
    "int_to_base(10,5)"
   ]
  },
  {
   "cell_type": "markdown",
   "metadata": {},
   "source": [
    " 3. Take a string-formatted number and its base and return the base-10 integer"
   ]
  },
  {
   "cell_type": "code",
   "execution_count": 10,
   "metadata": {},
   "outputs": [
    {
     "data": {
      "text/plain": [
       "20"
      ]
     },
     "execution_count": 10,
     "metadata": {},
     "output_type": "execute_result"
    }
   ],
   "source": [
    "def base_to_int(string, base):\n",
    "    base = 10\n",
    "    if string == \"0\" or base <= 0 : \n",
    "        return 0 \n",
    "    result = 0\n",
    "    power = 0\n",
    "    \n",
    "    for digit in reversed(string):\n",
    "        result += int(digit, base=base) * (base ** power)\n",
    "        power += 1\n",
    "    \n",
    "    return result\n",
    "    \n",
    "base_to_int(\"20\", 10)"
   ]
  },
  {
   "cell_type": "markdown",
   "metadata": {},
   "source": [
    "4. Add two numbers of different bases and return the sum"
   ]
  },
  {
   "cell_type": "code",
   "execution_count": 12,
   "metadata": {},
   "outputs": [
    {
     "data": {
      "text/plain": [
       "20"
      ]
     },
     "execution_count": 12,
     "metadata": {},
     "output_type": "execute_result"
    }
   ],
   "source": [
    "def flexibase_add(str1, str2, base1, base2):\n",
    "    a = base_to_int(str1, base1)\n",
    "    b = base_to_int(str1, base2)\n",
    "    result = a + b\n",
    "    return result \n",
    "\n",
    "flexibase_add('10','5', 2, 4)"
   ]
  },
  {
   "cell_type": "markdown",
   "metadata": {},
   "source": [
    "5. Multiply two numbers of different bases and return the product"
   ]
  },
  {
   "cell_type": "code",
   "execution_count": null,
   "metadata": {},
   "outputs": [],
   "source": [
    " def flexibase_multiply(str1, str2, base1, base2):\n",
    "    a = base_to_int(str1, base1)\n",
    "    b = base_to_int(str1, base2)\n",
    "    result = a * b\n",
    "    return result "
   ]
  },
  {
   "cell_type": "markdown",
   "metadata": {},
   "source": [
    "6. Given an integer, return the Roman numeral version"
   ]
  },
  {
   "cell_type": "code",
   "execution_count": 17,
   "metadata": {},
   "outputs": [
    {
     "data": {
      "text/plain": [
       "2"
      ]
     },
     "execution_count": 17,
     "metadata": {},
     "output_type": "execute_result"
    }
   ],
   "source": [
    "# Hint: Please use a dictionary in your solution. \n",
    "def romanify(num):\n",
    "    roman = {\n",
    "        1: \"I\",\n",
    "        5: \"V\",\n",
    "        10: \"X\",\n",
    "        50: \"L\",\n",
    "        100: \"C\",\n",
    "        500: \"D\",\n",
    "        1000: \"M\"\n",
    "    }\n",
    "    let = [1, 5, 10, 50, 100, 500, 1000]\n",
    "    for i in range(6):\n",
    "        if num <= let[i]:\n",
    "            return i\n",
    "    num \n",
    "romanify(10)"
   ]
  },
  {
   "cell_type": "code",
   "execution_count": 1,
   "metadata": {},
   "outputs": [],
   "source": [
    "# Copyright (c) 2014 Matt Dickenson\n",
    "# \n",
    "# Permission is hereby granted, free of charge, to any person obtaining a copy\n",
    "# of this software and associated documentation files (the \"Software\"), to deal\n",
    "# in the Software without restriction, including without limitation the rights\n",
    "# to use, copy, modify, merge, publish, distribute, sublicense, and/or sell\n",
    "# copies of the Software, and to permit persons to whom the Software is\n",
    "# furnished to do so, subject to the following conditions:\n",
    "# \n",
    "# The above copyright notice and this permission notice shall be included in all\n",
    "# copies or substantial portions of the Software.\n",
    "# \n",
    "# THE SOFTWARE IS PROVIDED \"AS IS\", WITHOUT WARRANTY OF ANY KIND, EXPRESS OR\n",
    "# IMPLIED, INCLUDING BUT NOT LIMITED TO THE WARRANTIES OF MERCHANTABILITY,\n",
    "# FITNESS FOR A PARTICULAR PURPOSE AND NONINFRINGEMENT. IN NO EVENT SHALL THE\n",
    "# AUTHORS OR COPYRIGHT HOLDERS BE LIABLE FOR ANY CLAIM, DAMAGES OR OTHER\n",
    "# LIABILITY, WHETHER IN AN ACTION OF CONTRACT, TORT OR OTHERWISE, ARISING FROM,\n",
    "# OUT OF OR IN CONNECTION WITH THE SOFTWARE OR THE USE OR OTHER DEALINGS IN THE\n",
    "# SOFTWARE."
   ]
  }
 ],
 "metadata": {
  "kernelspec": {
   "display_name": "Python 3 (ipykernel)",
   "language": "python",
   "name": "python3"
  },
  "language_info": {
   "codemirror_mode": {
    "name": "ipython",
    "version": 3
   },
   "file_extension": ".py",
   "mimetype": "text/x-python",
   "name": "python",
   "nbconvert_exporter": "python",
   "pygments_lexer": "ipython3",
   "version": "3.12.5"
  }
 },
 "nbformat": 4,
 "nbformat_minor": 4
}
