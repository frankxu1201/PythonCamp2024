{
 "cells": [
  {
   "cell_type": "markdown",
   "metadata": {},
   "source": [
    "# Lab: Namespace, Classes, and OOP"
   ]
  },
  {
   "cell_type": "markdown",
   "metadata": {},
   "source": [
    "Fill in the following methods for the class 'Clock'"
   ]
  },
  {
   "cell_type": "code",
   "execution_count": 1,
   "metadata": {},
   "outputs": [],
   "source": [
    "class Clock:\n",
    "    def __init__(self, hour, minutes):\n",
    "        self.minutes = minutes\n",
    "        self.hour = hour\n",
    "\n",
    "    ## Print the time\n",
    "    def __str__(self):\n",
    "        return f'The time is {self.hour} Hours and {self.minutes} Minutes'\n",
    "    \n",
    "    ## Add time\n",
    "    ## Don't return anything\n",
    "    def __add__(self,minutes):\n",
    "        ad_hour = minutes // 60\n",
    "        ad_minutes = minutes % 60\n",
    "        if self.minutes + ad_minutes >= 60:\n",
    "            self.hour = ad_hour + self.hour + 1\n",
    "            self.minutes = (self.minutes + ad_minutes) - 60\n",
    "        elif minutes == 60:\n",
    "            self.hour = self.hour + 1\n",
    "            self.minutes = self.minutes\n",
    "        else:\n",
    "            self.hour = self.hour + ad_hour\n",
    "            self.minutes = self.minutes + ad_minutes\n",
    "\n",
    "        if self.hour >= 24:\n",
    "            self.hour = self.hour - 24\n",
    "    \n",
    "    ## Subtract time\n",
    "    ## Don't return anything\n",
    "    def __sub__(self,minutes):\n",
    "        sub_hour = minutes // 60\n",
    "        sub_minutes = minutes % 60\n",
    "        \n",
    "        if sub_minutes >= self.minutes:\n",
    "            self.hour = self.hour - sub_hour - 1\n",
    "            self.minutes = self.minutes + 60 - sub_minutes\n",
    "        else:\n",
    "            self.hour = self.hour - sub_hour\n",
    "            self.minutes = self.minutes - sub_minutes\n",
    "\n",
    "        if self.hour < 0:\n",
    "            self.hour = self.hour + 24\n",
    "    \n",
    "    ## Are two times equal?\n",
    "    def __eq__(self, other):\n",
    "        if self.hour == other.hour & other.minutes:\n",
    "            return True\n",
    "        else:\n",
    "            return False\n",
    "    \n",
    "    ## Are two times not equal?\n",
    "    def __ne__(self, other):\n",
    "        if self.hour != other.hour:\n",
    "            return True\n",
    "        elif self.minutes != other.minutes:\n",
    "            return True\n",
    "        else:\n",
    "            return False"
   ]
  },
  {
   "cell_type": "markdown",
   "metadata": {},
   "source": [
    "You should be able to run all code below if class Clock is created correctly"
   ]
  },
  {
   "cell_type": "code",
   "execution_count": 2,
   "metadata": {},
   "outputs": [
    {
     "name": "stdout",
     "output_type": "stream",
     "text": [
      "The time is 23 Hours and 5 Minutes\n",
      "The time is 12 Hours and 45 Minutes\n",
      "The time is 12 Hours and 45 Minutes\n"
     ]
    }
   ],
   "source": [
    "# You should be able to run these\n",
    "clock1 = Clock(23, 5)\n",
    "print(clock1) # 23:05\n",
    "clock2 = Clock(12, 45)\n",
    "print(clock2) # 12:45\n",
    "clock3 = Clock(12, 45)\n",
    "print(clock3) # 12:45"
   ]
  },
  {
   "cell_type": "code",
   "execution_count": 3,
   "metadata": {},
   "outputs": [
    {
     "name": "stdout",
     "output_type": "stream",
     "text": [
      "False\n",
      "True\n",
      "True\n"
     ]
    }
   ],
   "source": [
    "print(clock1 == clock2) ## False\n",
    "print(clock1 != clock2) ## True\n",
    "print(clock2 == clock3) ## True"
   ]
  },
  {
   "cell_type": "code",
   "execution_count": 4,
   "metadata": {},
   "outputs": [
    {
     "name": "stdout",
     "output_type": "stream",
     "text": [
      "testing addition\n",
      "The time is 0 Hours and 5 Minutes\n",
      "True\n"
     ]
    }
   ],
   "source": [
    "print(\"testing addition\")\n",
    "clock1 + 60\n",
    "print(clock1) # 00:05\n",
    "print(clock1 == Clock(0, 5)) # True"
   ]
  },
  {
   "cell_type": "code",
   "execution_count": 5,
   "metadata": {},
   "outputs": [
    {
     "name": "stdout",
     "output_type": "stream",
     "text": [
      "testing subtraction\n",
      "The time is 22 Hours and 25 Minutes\n"
     ]
    }
   ],
   "source": [
    "print(\"testing subtraction\")\n",
    "clock1 - 100\n",
    "print(clock1) # 22:25"
   ]
  }
 ],
 "metadata": {
  "kernelspec": {
   "display_name": "Python 3 (ipykernel)",
   "language": "python",
   "name": "python3"
  },
  "language_info": {
   "codemirror_mode": {
    "name": "ipython",
    "version": 3
   },
   "file_extension": ".py",
   "mimetype": "text/x-python",
   "name": "python",
   "nbconvert_exporter": "python",
   "pygments_lexer": "ipython3",
   "version": "3.12.5"
  }
 },
 "nbformat": 4,
 "nbformat_minor": 4
}
