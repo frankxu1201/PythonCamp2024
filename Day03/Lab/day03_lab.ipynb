{
 "cells": [
  {
   "cell_type": "markdown",
   "metadata": {},
   "source": [
    "# Lab: Error Handling"
   ]
  },
  {
   "cell_type": "markdown",
   "metadata": {},
   "source": [
    "1. Complete the function to make all characters capitalized. \n",
    "    - check out the `.upper()` function\n",
    "    - handle the exception when intergers are given instead of strings"
   ]
  },
  {
   "cell_type": "code",
   "execution_count": 48,
   "metadata": {},
   "outputs": [],
   "source": [
    "def shout(txt):\n",
    "    try:\n",
    "        txt = txt.upper()\n",
    "        print(txt)\n",
    "    except AttributeError:\n",
    "        print(\"You enter an interger\")"
   ]
  },
  {
   "cell_type": "code",
   "execution_count": 49,
   "metadata": {},
   "outputs": [
    {
     "name": "stdout",
     "output_type": "stream",
     "text": [
      "You enter an interger\n"
     ]
    }
   ],
   "source": [
    "shout(1)"
   ]
  },
  {
   "cell_type": "code",
   "execution_count": 50,
   "metadata": {},
   "outputs": [
    {
     "name": "stdout",
     "output_type": "stream",
     "text": [
      "You enter an interger\n"
     ]
    }
   ],
   "source": [
    "shout(1.2)"
   ]
  },
  {
   "cell_type": "markdown",
   "metadata": {},
   "source": [
    "2. Reverse all characters in a string\n",
    "    - handle the exception when integers are given \n",
    "    - use a different method to handle this from 1."
   ]
  },
  {
   "cell_type": "code",
   "execution_count": 51,
   "metadata": {},
   "outputs": [
    {
     "name": "stdout",
     "output_type": "stream",
     "text": [
      "You entered an integer\n"
     ]
    }
   ],
   "source": [
    "def reverse(txt):\n",
    "    if isinstance(txt, int):\n",
    "        print(\"You entered an integer\")\n",
    "    else:\n",
    "        return txt[::-1]\n",
    "\n",
    "reverse(2)"
   ]
  },
  {
   "cell_type": "code",
   "execution_count": 52,
   "metadata": {},
   "outputs": [
    {
     "ename": "TypeError",
     "evalue": "'float' object is not subscriptable",
     "output_type": "error",
     "traceback": [
      "\u001b[0;31m---------------------------------------------------------------------------\u001b[0m",
      "\u001b[0;31mTypeError\u001b[0m                                 Traceback (most recent call last)",
      "Cell \u001b[0;32mIn[52], line 1\u001b[0m\n\u001b[0;32m----> 1\u001b[0m \u001b[43mreverse\u001b[49m\u001b[43m(\u001b[49m\u001b[38;5;241;43m2.3\u001b[39;49m\u001b[43m)\u001b[49m\n",
      "Cell \u001b[0;32mIn[51], line 5\u001b[0m, in \u001b[0;36mreverse\u001b[0;34m(txt)\u001b[0m\n\u001b[1;32m      3\u001b[0m     \u001b[38;5;28mprint\u001b[39m(\u001b[38;5;124m\"\u001b[39m\u001b[38;5;124mYou entered an integer\u001b[39m\u001b[38;5;124m\"\u001b[39m)\n\u001b[1;32m      4\u001b[0m \u001b[38;5;28;01melse\u001b[39;00m:\n\u001b[0;32m----> 5\u001b[0m     \u001b[38;5;28;01mreturn\u001b[39;00m \u001b[43mtxt\u001b[49m\u001b[43m[\u001b[49m\u001b[43m:\u001b[49m\u001b[43m:\u001b[49m\u001b[38;5;241;43m-\u001b[39;49m\u001b[38;5;241;43m1\u001b[39;49m\u001b[43m]\u001b[49m\n",
      "\u001b[0;31mTypeError\u001b[0m: 'float' object is not subscriptable"
     ]
    }
   ],
   "source": [
    "reverse(2.3)"
   ]
  },
  {
   "cell_type": "markdown",
   "metadata": {},
   "source": [
    "3. Reverse the word ordering in a string\n",
    "    - assume words are separated by space\n",
    "    - think of one error that could occur and handle it accordingly"
   ]
  },
  {
   "cell_type": "code",
   "execution_count": 43,
   "metadata": {},
   "outputs": [
    {
     "name": "stdout",
     "output_type": "stream",
     "text": [
      "department science political\n"
     ]
    }
   ],
   "source": [
    "def reversewords(txt):\n",
    "    if isinstance(txt, int):\n",
    "        print(\"You entered an integer\")\n",
    "    else:\n",
    "        txt = txt.split()\n",
    "        txt = list(reversed(txt))\n",
    "        s = ' '.join(txt)\n",
    "        print(s)\n",
    "\n",
    "reversewords(\"political science department\")"
   ]
  },
  {
   "cell_type": "markdown",
   "metadata": {},
   "source": [
    "4. Reverse letters in each word in the string\n",
    "    - The word ordering is preserved\n",
    "    - Only the letters are reversed "
   ]
  },
  {
   "cell_type": "code",
   "execution_count": 47,
   "metadata": {},
   "outputs": [
    {
     "name": "stdout",
     "output_type": "stream",
     "text": [
      "lacitilop ecneics\n"
     ]
    }
   ],
   "source": [
    "def reversewordletters(txt):\n",
    "    if isinstance(txt, int):\n",
    "        print(\"You entered an integer\")\n",
    "    else:\n",
    "        txt = txt.split()\n",
    "        for i in range(len(txt)):\n",
    "            txt[i] = reverse(txt[i])\n",
    "        s = ' '.join(txt)\n",
    "        print(s)\n",
    "\n",
    "reversewordletters(\"political science\")"
   ]
  },
  {
   "cell_type": "markdown",
   "metadata": {},
   "source": [
    "5. (Optional) Change text to piglatin... Google it! \n",
    "    - Handle errors accordingly"
   ]
  },
  {
   "cell_type": "code",
   "execution_count": null,
   "metadata": {},
   "outputs": [],
   "source": [
    "def piglatin(txt):\n",
    "    # YOUR CODE HERE"
   ]
  },
  {
   "cell_type": "code",
   "execution_count": null,
   "metadata": {},
   "outputs": [],
   "source": []
  }
 ],
 "metadata": {
  "kernelspec": {
   "display_name": "Python 3 (ipykernel)",
   "language": "python",
   "name": "python3"
  },
  "language_info": {
   "codemirror_mode": {
    "name": "ipython",
    "version": 3
   },
   "file_extension": ".py",
   "mimetype": "text/x-python",
   "name": "python",
   "nbconvert_exporter": "python",
   "pygments_lexer": "ipython3",
   "version": "3.12.5"
  }
 },
 "nbformat": 4,
 "nbformat_minor": 4
}
